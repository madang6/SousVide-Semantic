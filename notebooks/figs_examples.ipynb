{
 "cells": [
  {
   "cell_type": "code",
   "execution_count": null,
   "metadata": {},
   "outputs": [],
   "source": [
    "# Some useful settings for interactive work\n",
    "%load_ext autoreload\n",
    "%autoreload 2\n",
    "\n",
    "%matplotlib widget"
   ]
  },
  {
   "cell_type": "code",
   "execution_count": null,
   "metadata": {},
   "outputs": [],
   "source": [
    "# Importing the necessary libraries\n",
    "import figs.render.capture_generation as pg\n",
    "import figs.visualize.plot_trajectories as pt\n",
    "import figs.visualize.generate_videos as gv\n",
    "\n",
    "from figs.simulator import Simulator\n",
    "from figs.control.vehicle_rate_mpc import VehicleRateMPC"
   ]
  },
  {
   "cell_type": "code",
   "execution_count": null,
   "metadata": {},
   "outputs": [],
   "source": [
    "# FiGS Capture Examples (scene_name, capture_name)\n",
    "capture_examples = [\n",
    "    'backroom'\n",
    "]\n",
    "\n",
    "# FiGS Simulate Examples (scene_name, rollout_name, frame_name, policy_name, course_name)\n",
    "simulate_examples = [\n",
    "    # ('flightroom', 'baseline', 'carl', 'vrmpc_fr', 'extended_traj_track'),\n",
    "    # ('backroom',   'baseline', 'carl', 'vrmpc_fr', 'cluttered_env_track'),\n",
    "    # ('mid_gate',   'baseline', 'carl', 'vrmpc_fr', 'robustness_track'),\n",
    "    ('packardpark',   'baseline', 'carl', 'vrmpc_fr', 'spiral')\n",
    "]"
   ]
  },
  {
   "cell_type": "code",
   "execution_count": null,
   "metadata": {},
   "outputs": [],
   "source": [
    "# # Generate the FiGS environment\n",
    "# for scene_name in capture_examples:\n",
    "#     print(\"=============================================================\")\n",
    "#     print(f\"Generating GSplat for [{scene_name}]\")\n",
    "#     print(\"-------------------------------------------------------------\")\n",
    "\n",
    "#     pg.generate_gsplat(scene_name)"
   ]
  },
  {
   "cell_type": "code",
   "execution_count": null,
   "metadata": {},
   "outputs": [],
   "source": [
    "# Simulate within the FiGS environment\n",
    "for scene, rollout, frame, policy, course in simulate_examples:\n",
    "    print(\"=============================================================\")\n",
    "    print(f\"Simulating {scene} scene with {course} course\")\n",
    "    print(\"-------------------------------------------------------------\")\n",
    "\n",
    "    # Load the policy and simulator\n",
    "    sim = Simulator(scene,rollout,frame)\n",
    "    ctl = VehicleRateMPC(course,policy,frame)\n",
    "\n",
    "    # Use the ideal trajectory in VehicleRateMPC to get initial conditions and final time\n",
    "    t0,tf,x0 = ctl.tXUd[0,0],ctl.tXUd[0,-1],ctl.tXUd[1:11,0]\n",
    "\n",
    "    # Simulate the policy\n",
    "    Tro,Xro,Uro,Imgs,_,_ = sim.simulate(ctl,t0,tf,x0)\n",
    "\n",
    "    # Output the results\n",
    "    gv.images_to_mp4(Imgs,'test_space/'+course+'_'+scene+'.mp4', ctl.hz)       # Save the video\n",
    "    pt.plot_RO_spatial((Tro,Xro,Uro))                               # Plot the spatial trajectory\n",
    "\n",
    "    # Clear the memory of the policy to avoid improper re-initialization of ACADOS\n",
    "    del ctl"
   ]
  }
 ],
 "metadata": {
  "kernelspec": {
   "display_name": "semantic-sousvide",
   "language": "python",
   "name": "python3"
  },
  "language_info": {
   "codemirror_mode": {
    "name": "ipython",
    "version": 3
   },
   "file_extension": ".py",
   "mimetype": "text/x-python",
   "name": "python",
   "nbconvert_exporter": "python",
   "pygments_lexer": "ipython3",
   "version": "3.10.16"
  }
 },
 "nbformat": 4,
 "nbformat_minor": 2
}
