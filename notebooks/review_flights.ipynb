{
 "cells": [
  {
   "cell_type": "code",
   "execution_count": null,
   "id": "bc5beccd",
   "metadata": {},
   "outputs": [],
   "source": [
    "# Some useful settings for interactive work\n",
    "%load_ext autoreload\n",
    "%autoreload 2\n",
    "\n",
    "%matplotlib widget"
   ]
  },
  {
   "cell_type": "code",
   "execution_count": null,
   "id": "07ce2069",
   "metadata": {},
   "outputs": [],
   "source": [
    "import sousvide.visualize.plot_flight as pf"
   ]
  },
  {
   "cell_type": "code",
   "execution_count": null,
   "id": "fd4368f7",
   "metadata": {},
   "outputs": [],
   "source": [
    "pf.plot_flight(\n",
    "    cohort=\"ssv_CLIPSEG_NORMAL\",\n",
    "    Nfiles=1,\n",
    "    strip_idle=True,\n",
    "    baseline=True,\n",
    ")"
   ]
  }
 ],
 "metadata": {
  "kernelspec": {
   "display_name": "sousvide-semantic-flight",
   "language": "python",
   "name": "python3"
  },
  "language_info": {
   "codemirror_mode": {
    "name": "ipython",
    "version": 3
   },
   "file_extension": ".py",
   "mimetype": "text/x-python",
   "name": "python",
   "nbconvert_exporter": "python",
   "pygments_lexer": "ipython3",
   "version": "3.10.18"
  }
 },
 "nbformat": 4,
 "nbformat_minor": 5
}
