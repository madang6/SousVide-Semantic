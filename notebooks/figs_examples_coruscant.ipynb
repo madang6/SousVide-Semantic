{
 "cells": [
  {
   "cell_type": "code",
   "execution_count": null,
   "metadata": {},
   "outputs": [],
   "source": [
    "# Some useful settings for interactive work\n",
    "%load_ext autoreload\n",
    "%autoreload 2\n",
    "\n",
    "%matplotlib widget"
   ]
  },
  {
   "cell_type": "code",
   "execution_count": null,
   "metadata": {},
   "outputs": [],
   "source": [
    "# Importing the necessary libraries\n",
    "import figs.render.capture_generation as pg\n",
    "import figs.visualize.plot_trajectories as pt\n",
    "import figs.visualize.generate_videos as gv\n",
    "import figs.scene_editing.scene_editing_utils as scdt\n",
    "\n",
    "from figs.simulator import Simulator\n",
    "from figs.control.vehicle_rate_mpc import VehicleRateMPC\n",
    "\n",
    "import os\n",
    "os.environ[\"ACADOS_SOURCE_DIR\"] = \"/data/madang/StanfordMSL/SousVide-Semantic/FiGS-Semantic/acados\"\n",
    "os.environ[\"LD_LIBRARY_PATH\"] = os.getenv(\"LD_LIBRARY_PATH\", \"\") + \"/data/madang/StanfordMSL/SousVide-Semantic/FiGS-Semantic/acados/lib\"\n",
    "\n",
    "# print(os.getenv(\"ACADOS_SOURCE_DIR\"))\n",
    "# print(os.getenv(\"LD_LIBRARY_PATH\"))\n",
    "\n",
    "# import ctypes\n",
    "# ctypes.CDLL(\"/home/madang/data/StanfordMSL/SousVide-Semantic/FiGS-Semantic/acados/lib/libqpOASES_e.so.3.1\")\n",
    "# ctypes.CDLL(\"/home/madang/data/StanfordMSL/SousVide-Semantic/FiGS-Semantic/acados/lib/libblasfeo.so\")\n",
    "# ctypes.CDLL(\"/home/madang/data/StanfordMSL/SousVide-Semantic/FiGS-Semantic/acados/lib/libhpipm.so\")\n",
    "# ctypes.CDLL(\"/home/madang/data/StanfordMSL/SousVide-Semantic/FiGS-Semantic/acados/lib/libacados.so\")"
   ]
  },
  {
   "cell_type": "code",
   "execution_count": null,
   "metadata": {},
   "outputs": [],
   "source": [
    "# FiGS Capture Examples (scene_name, capture_name)\n",
    "capture_examples = [\n",
    "    # 'backroom'\n",
    "    # 'sv_1007_gemsplat'\n",
    "    'packardpark'\n",
    "]\n",
    "\n",
    "# FiGS Simulate Examples (scene_name, rollout_name, frame_name, policy_name, course_name)\n",
    "simulate_examples = [\n",
    "    # ('flightroom', 'baseline', 'carl', 'vrmpc_fr', 'extended_traj_track'),\n",
    "    # ('backroom',   'baseline', 'carl', 'vrmpc_fr', 'cluttered_env_track'),\n",
    "    # ('mid_gate',   'baseline', 'carl', 'vrmpc_fr', 'robustness_track'),\n",
    "    ('packardpark',   'baseline', 'carl', 'vrmpc_fr', 'spiral')\n",
    "    # ('sv_917_3_left_gemsplat', 'baseline', 'carl', 'vrmpc_fr', 'robustness_track'),\n",
    "    # ('sv_1007_gemsplat', 'baseline', 'carl', 'vrmpc_fr', 'robustness_track'),\n",
    "]\n",
    "\n",
    "query = 'traffic cone'"
   ]
  },
  {
   "cell_type": "code",
   "execution_count": null,
   "metadata": {},
   "outputs": [],
   "source": [
    "# Simulate within the FiGS environment\n",
    "for scene, rollout, frame, policy, course in simulate_examples:\n",
    "    print(\"=============================================================\")\n",
    "    print(f\"Simulating {scene} scene with {course} course\")\n",
    "    print(\"-------------------------------------------------------------\")\n",
    "\n",
    "    # Load the policy and simulator\n",
    "    sim = Simulator(scene,rollout,frame)\n",
    "    ctl = VehicleRateMPC(course,policy,frame)\n",
    "\n",
    "    # Use the ideal trajectory in VehicleRateMPC to get initial conditions and final time\n",
    "    t0,tf,x0 = ctl.tXUd[0,0],ctl.tXUd[0,-1],ctl.tXUd[1:11,0]\n",
    "\n",
    "    # Simulate the policy\n",
    "    Tro,Xro,Uro,Imgs,_,_ = sim.simulate(ctl,t0,tf,x0)\n",
    "\n",
    "    # Output the results\n",
    "    gv.images_to_mp4(Imgs,'test_space/'+course+'_'+scene+'.mp4', ctl.hz)       # Save the video\n",
    "    # pt.plot_RO_spatial((Tro,Xro,Uro))                               # Plot the spatial trajectory\n",
    "\n",
    "    scdt.plot_point_cloud(sim,\n",
    "                          (Tro,Xro,Uro),\n",
    "                          50)\n",
    "\n",
    "    # Clear the memory of the policy to avoid improper re-initialization of ACADOS\n",
    "    del ctl"
   ]
  }
 ],
 "metadata": {
  "kernelspec": {
   "display_name": "Python 3",
   "language": "python",
   "name": "python3"
  },
  "language_info": {
   "codemirror_mode": {
    "name": "ipython",
    "version": 3
   },
   "file_extension": ".py",
   "mimetype": "text/x-python",
   "name": "python",
   "nbconvert_exporter": "python",
   "pygments_lexer": "ipython3",
   "version": "3.10.17"
  }
 },
 "nbformat": 4,
 "nbformat_minor": 2
}
