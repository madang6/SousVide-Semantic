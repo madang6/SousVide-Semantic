{
 "cells": [
  {
   "cell_type": "code",
   "execution_count": null,
   "id": "010328cd",
   "metadata": {},
   "outputs": [],
   "source": [
    "# Some useful settings for interactive work\n",
    "%load_ext autoreload\n",
    "%autoreload 2\n",
    "\n",
    "%matplotlib widget"
   ]
  },
  {
   "cell_type": "code",
   "execution_count": null,
   "id": "60e0f0b5",
   "metadata": {},
   "outputs": [],
   "source": [
    "# Import the relevant modules\n",
    "import sousvide.synthesize.rollout_generator as rg\n",
    "import sousvide.synthesize.observation_generator as og\n",
    "import sousvide.instruct.train_policy as tp\n",
    "import sousvide.visualize.plot_synthesize as ps\n",
    "import sousvide.visualize.plot_learning as pl\n",
    "import sousvide.flight.deploy_ssv as df\n",
    "\n",
    "import os\n",
    "os.environ[\"ACADOS_SOURCE_DIR\"] = \"/data/madang/StanfordMSL/SousVide-Semantic/FiGS-Semantic/acados\"\n",
    "os.environ[\"LD_LIBRARY_PATH\"] = os.getenv(\"LD_LIBRARY_PATH\", \"\") + \"/data/madang/StanfordMSL/SousVide-Semantic/FiGS-Semantic/acados/lib\""
   ]
  },
  {
   "cell_type": "code",
   "execution_count": null,
   "id": "9fc5cb47",
   "metadata": {},
   "outputs": [],
   "source": [
    "# Test Campaign Settings and Identifiers\n",
    "cohort = \"ssv_multi_CLIPSEG_Overlay_coruscant\"\n",
    "# scene = \"packardpark\"\n",
    "method = \"rrt\"\n",
    "Nep_his = 100\n",
    "Nep_com = 250\n",
    "\n",
    "flights = [\n",
    "    # (\"packardpark\",\"packardpark\"),\n",
    "    # (\"flightroom_lowres\",\"flightroom_lowres\"),\n",
    "    (\"sv_917_3_left_gemsplat\",\"sv_917_3_left_gemsplat\")\n",
    "]\n",
    "\n",
    "roster = [\n",
    "    \"InstinctJester\" # SV-Net, null obj\n",
    "]"
   ]
  },
  {
   "cell_type": "code",
   "execution_count": null,
   "id": "1933f493",
   "metadata": {},
   "outputs": [],
   "source": [
    "# Generate Rollouts\n",
    "rg.generate_rollout_data(cohort,method,flights)"
   ]
  },
  {
   "cell_type": "code",
   "execution_count": null,
   "id": "14ddbfd7",
   "metadata": {},
   "outputs": [],
   "source": [
    "# Review the Rollout Data\n",
    "ps.plot_rollout_data(cohort)"
   ]
  },
  {
   "cell_type": "code",
   "execution_count": null,
   "id": "a7074560",
   "metadata": {},
   "outputs": [],
   "source": [
    "# Generate Observations\n",
    "og.generate_observation_data(cohort,roster)"
   ]
  },
  {
   "cell_type": "code",
   "execution_count": null,
   "id": "5e67689d",
   "metadata": {},
   "outputs": [],
   "source": [
    "# Review the Observation Data\n",
    "ps.plot_observation_data(cohort,roster)"
   ]
  },
  {
   "cell_type": "code",
   "execution_count": null,
   "id": "49717b66",
   "metadata": {},
   "outputs": [],
   "source": [
    "# Train the History Network\n",
    "tp.train_roster(cohort,roster,\"Parameter\",Nep_his,lim_sv=10)"
   ]
  },
  {
   "cell_type": "code",
   "execution_count": null,
   "id": "8c7af228",
   "metadata": {},
   "outputs": [],
   "source": [
    "# Review Lossesl\n",
    "pl.plot_losses(cohort,roster,\"Parameter\")"
   ]
  },
  {
   "cell_type": "code",
   "execution_count": null,
   "id": "26911311",
   "metadata": {},
   "outputs": [],
   "source": [
    "# Train the Command Network\n",
    "tp.train_roster(cohort,roster,\"Commander\",Nep_com,lim_sv=10)"
   ]
  },
  {
   "cell_type": "code",
   "execution_count": null,
   "id": "42eed8fd",
   "metadata": {},
   "outputs": [],
   "source": [
    "# Review Losses\n",
    "pl.plot_losses(cohort,roster,\"Commander\")"
   ]
  },
  {
   "cell_type": "code",
   "execution_count": null,
   "id": "5ce6d584",
   "metadata": {},
   "outputs": [],
   "source": [
    "# Simulate in FiGS\n",
    "# for scene,course in flights:\n",
    "df.simulate_roster(cohort,method,flights,roster)"
   ]
  },
  {
   "cell_type": "code",
   "execution_count": null,
   "id": "85d95e39",
   "metadata": {},
   "outputs": [],
   "source": [
    "# Plot the results\n",
    "for _,course in flights:\n",
    "    pl.review_simulations(cohort,course,roster,plot_show=True)"
   ]
  }
 ],
 "metadata": {
  "kernelspec": {
   "display_name": "Python 3",
   "language": "python",
   "name": "python3"
  },
  "language_info": {
   "codemirror_mode": {
    "name": "ipython",
    "version": 3
   },
   "file_extension": ".py",
   "mimetype": "text/x-python",
   "name": "python",
   "nbconvert_exporter": "python",
   "pygments_lexer": "ipython3",
   "version": "3.10.17"
  }
 },
 "nbformat": 4,
 "nbformat_minor": 5
}
