{
 "cells": [
  {
   "cell_type": "code",
   "execution_count": null,
   "metadata": {},
   "outputs": [],
   "source": [
    "# Some useful settings for interactive work\n",
    "%load_ext autoreload\n",
    "%autoreload 2\n",
    "\n",
    "%matplotlib widget"
   ]
  },
  {
   "cell_type": "code",
   "execution_count": null,
   "metadata": {},
   "outputs": [],
   "source": [
    "# Importing the necessary libraries\n",
    "import figs.render.capture_generation as pg\n",
    "import figs.visualize.plot_trajectories as pt\n",
    "import figs.visualize.generate_videos as gv\n",
    "\n",
    "from figs.simulator import Simulator\n",
    "from figs.control.vehicle_rate_mpc import VehicleRateMPC"
   ]
  },
  {
   "cell_type": "code",
   "execution_count": null,
   "metadata": {},
   "outputs": [],
   "source": [
    "# FiGS Capture Examples (scene_name, capture_name)\n",
    "capture_examples = [\n",
    "    # 'durand_bkitchen'\n",
    "    # 'vista_flightroom'\n",
    "    'vfalt'\n",
    "]\n",
    "\n",
    "# # FiGS Simulate Examples (scene_name, rollout_name, frame_name, policy_name, course_name)\n",
    "# simulate_examples = [\n",
    "#     ('flightroom', 'baseline', 'carl', 'vrmpc_fr', 'extended_traj_track'),\n",
    "#     ('backroom',   'baseline', 'carl', 'vrmpc_fr', 'cluttered_env_track'),\n",
    "#     ('mid_gate',   'baseline', 'carl', 'vrmpc_fr', 'robustness_track'),\n",
    "#     ('src_open',   'baseline', 'carl', 'vrmpc_fr', 'infinity')\n",
    "# ]"
   ]
  },
  {
   "cell_type": "code",
   "execution_count": null,
   "metadata": {},
   "outputs": [],
   "source": [
    "# Generate the FiGS environment\n",
    "for scene_name in capture_examples:\n",
    "    print(\"=============================================================\")\n",
    "    print(f\"Generating GSplat for [{scene_name}]\")\n",
    "    print(\"-------------------------------------------------------------\")\n",
    "\n",
    "    pg.generate_gsplat(scene_name,capture_cfg_name='semantic_iphone15pro')"
   ]
  }
 ],
 "metadata": {
  "kernelspec": {
   "display_name": "semantic-sousvide",
   "language": "python",
   "name": "python3"
  },
  "language_info": {
   "codemirror_mode": {
    "name": "ipython",
    "version": 3
   },
   "file_extension": ".py",
   "mimetype": "text/x-python",
   "name": "python",
   "nbconvert_exporter": "python",
   "pygments_lexer": "ipython3",
   "version": "3.10.16"
  }
 },
 "nbformat": 4,
 "nbformat_minor": 2
}
