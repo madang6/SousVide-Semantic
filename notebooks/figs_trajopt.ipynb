{
 "cells": [
  {
   "cell_type": "code",
   "execution_count": null,
   "id": "2a36124b",
   "metadata": {},
   "outputs": [],
   "source": [
    "# Some useful settings for interactive work\n",
    "%load_ext autoreload\n",
    "%autoreload 2\n",
    "\n",
    "%matplotlib widget"
   ]
  },
  {
   "cell_type": "code",
   "execution_count": null,
   "id": "44f183c1",
   "metadata": {},
   "outputs": [],
   "source": [
    "# Importing the necessary libraries\n",
    "# import figs.render.capture_generation as pg\n",
    "import figs.visualize.plot_trajectories as pt\n",
    "# import figs.visualize.generate_videos as gv\n",
    "\n",
    "from figs.simulator import Simulator\n",
    "from figs.control.vehicle_rate_mpc import VehicleRateMPC"
   ]
  },
  {
   "cell_type": "code",
   "execution_count": null,
   "id": "b356d457",
   "metadata": {},
   "outputs": [],
   "source": [
    "# FiGS Capture Examples (scene_name, capture_name)\n",
    "capture_examples = [\n",
    "    'backroom'\n",
    "]\n",
    "\n",
    "# FiGS Simulate Examples (scene_name, rollout_name, frame_name, policy_name, course_name)\n",
    "simulate_examples = [\n",
    "    ('flightroom', 'baseline', 'carl', 'vrmpc_fr', 'extended_traj_track'),\n",
    "    ('backroom',   'baseline', 'carl', 'vrmpc_fr', 'cluttered_env_track'),\n",
    "    ('mid_gate',   'baseline', 'carl', 'vrmpc_fr', 'robustness_track'),\n",
    "    ('src_open',   'baseline', 'carl', 'vrmpc_fr', 'infinity')\n",
    "]"
   ]
  },
  {
   "cell_type": "code",
   "execution_count": null,
   "id": "fcb6932e",
   "metadata": {},
   "outputs": [],
   "source": [
    "# Simulate within the FiGS environment\n",
    "for scene, rollout, frame, policy, course in simulate_examples:\n",
    "    print(\"=============================================================\")\n",
    "    print(f\"Simulating {scene} scene with {course} course\")\n",
    "    print(\"-------------------------------------------------------------\")\n",
    "\n",
    "    # Load the policy and simulator\n",
    "    sim = Simulator(scene,rollout,frame)\n",
    "    ctl = VehicleRateMPC(course,policy,frame)\n",
    "\n",
    "    # Use the ideal trajectory in VehicleRateMPC to get initial conditions and final time\n",
    "    t0,tf,x0 = ctl.tXUd[0,0],ctl.tXUd[0,-1],ctl.tXUd[1:11,0]\n",
    "\n",
    "    # Simulate the policy\n",
    "    Tro,Xro,Uro,Imgs,_,_ = sim.simulate(ctl,t0,tf,x0)\n",
    "\n",
    "    # Output the results\n",
    "    pt.plot_RO_spatial((Tro,Xro,Uro))                               # Plot the spatial trajectory\n",
    "\n",
    "    # Clear the memory of the policy to avoid improper re-initialization of ACADOS\n",
    "    del ctl"
   ]
  }
 ],
 "metadata": {
  "language_info": {
   "name": "python"
  }
 },
 "nbformat": 4,
 "nbformat_minor": 5
}
