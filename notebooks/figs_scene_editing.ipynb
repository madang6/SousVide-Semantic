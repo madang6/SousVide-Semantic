{
 "cells": [
  {
   "cell_type": "code",
   "execution_count": null,
   "id": "82cd78ed",
   "metadata": {},
   "outputs": [],
   "source": [
    "# Some useful settings for interactive work\n",
    "%load_ext autoreload\n",
    "%autoreload 2\n",
    "\n",
    "%matplotlib widget"
   ]
  },
  {
   "cell_type": "code",
   "execution_count": null,
   "id": "244fb663",
   "metadata": {},
   "outputs": [],
   "source": [
    "# Import the relevant modules\n",
    "import sousvide.synthesize.rollout_generator as rg\n",
    "import sousvide.synthesize.observation_generator as og\n",
    "import sousvide.instruct.train_policy as tp\n",
    "import sousvide.visualize.plot_synthesize as ps\n",
    "import sousvide.visualize.plot_learning as pl\n",
    "import sousvide.flight.deploy_figs as df\n",
    "\n",
    "#NOTE These modules might not be on path - might need to fix\n",
    "import figs.render.gsplat_semantic as gs\n",
    "from figs.scene_editing.scene_editing_utils import rescale_point_cloud"
   ]
  },
  {
   "cell_type": "code",
   "execution_count": null,
   "id": "61f54b58",
   "metadata": {},
   "outputs": [],
   "source": [
    "cohort = \"scene_editing\"                             # cohort name\n",
    "method,Nep_his,Nep_com = \"beta\",50,200               # sv method,history epochs,command epochs\n",
    "\n",
    "flights = [\n",
    "    ('flightroom_lowres',''),     # scene, course\n",
    "    # ('kitchenette',''),\n",
    "    # ('packardpark',''),\n",
    "    # ('spheres',''),\n",
    "    # ('indooroutdoor',''),\n",
    "    ]\n",
    "\n",
    "roster = [\n",
    "    \"Maverick\",                                      # SV-Net\n",
    "    ]"
   ]
  },
  {
   "cell_type": "code",
   "execution_count": null,
   "id": "b569ecde",
   "metadata": {},
   "outputs": [],
   "source": [
    "gsplat = gs.get_splat(flights[0][0])\n",
    "\n",
    "epcds, epcds_arr, epcds_bounds, pcd, pcd_mask, pcd_attr = rescale_point_cloud(gsplat,viz=True,cull=True)"
   ]
  },
  {
   "cell_type": "code",
   "execution_count": null,
   "id": "ba810a0d",
   "metadata": {},
   "outputs": [],
   "source": [
    "# # Simulate in FiGS\n",
    "# for scene,course in flights:\n",
    "#     df.simulate_roster(cohort,method,scene,course,roster)\n",
    "\n",
    "# # Plot the results\n",
    "# for _,course in flights:\n",
    "#     pl.review_simulations(cohort,course,roster,plot_show=True)"
   ]
  }
 ],
 "metadata": {
  "language_info": {
   "name": "python"
  }
 },
 "nbformat": 4,
 "nbformat_minor": 5
}
