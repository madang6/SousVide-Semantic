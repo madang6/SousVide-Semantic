{
 "cells": [
  {
   "cell_type": "code",
   "execution_count": null,
   "id": "82cd78ed",
   "metadata": {},
   "outputs": [],
   "source": [
    "# Some useful settings for interactive work\n",
    "%load_ext autoreload\n",
    "%autoreload 2\n",
    "\n",
    "%matplotlib widget"
   ]
  },
  {
   "cell_type": "code",
   "execution_count": null,
   "id": "244fb663",
   "metadata": {},
   "outputs": [],
   "source": [
    "# Import the relevant modules\n",
    "import sousvide.synthesize.rollout_generator as rg\n",
    "import sousvide.synthesize.observation_generator as og\n",
    "import sousvide.instruct.train_policy as tp\n",
    "import sousvide.visualize.plot_synthesize as ps\n",
    "import sousvide.visualize.plot_learning as pl\n",
    "import sousvide.flight.deploy_figs as df\n",
    "\n",
    "#NOTE These modules might not be on path - might need to fix\n",
    "import figs.render.gsplat_semantic as gs\n",
    "from figs.scene_editing.scene_editing_utils import rescale_point_cloud\n",
    "from figs.tsampling.build_rrt_dataset import visualize_rrt_trajectories, get_objectives\n",
    "\n",
    "from figs.simulator import Simulator\n",
    "import yaml\n",
    "\n",
    "import open3d as o3d\n",
    "import os\n",
    "from open3d.visualization.gui import Application\n",
    "\n",
    "# initialize the Open3D GUI (will throw if you do it more than once)\n",
    "try:\n",
    "    Application.instance.initialize()\n",
    "except RuntimeError:\n",
    "    pass"
   ]
  },
  {
   "cell_type": "code",
   "execution_count": null,
   "id": "61f54b58",
   "metadata": {},
   "outputs": [],
   "source": [
    "cohort  = \"scene_editing\"                             # cohort name\n",
    "frame   = \"carl\"\n",
    "rollout = \"baseline\"\n",
    "\n",
    "method,Nep_his,Nep_com = \"beta\",50,200               # sv method,history epochs,command epochs\n",
    "\n",
    "scenes = [\n",
    "    # \"sv_1007_gemsplat\"\n",
    "    \"sv_917_3_left_gemsplat\"\n",
    "    # 'flightroom_lowres',\n",
    "    # 'packardpark',                      # scene\n",
    "    # 'cubicles'\n",
    "    # 'spheres'\n",
    "    # 'indooroutdoor'\n",
    "\n",
    "\n",
    "    ]\n",
    "\n",
    "roster = [\n",
    "    \"Maverick\",                                      # SV-Net\n",
    "    ]"
   ]
  },
  {
   "cell_type": "code",
   "execution_count": null,
   "id": "95f993ae",
   "metadata": {},
   "outputs": [],
   "source": [
    "def load_config_file(base_path, subfolder, filename):\n",
    "    config_path = os.path.join(base_path, subfolder)\n",
    "    for root, _, files in os.walk(config_path):\n",
    "        if filename in files:\n",
    "            with open(os.path.join(root, filename), 'r') as file:\n",
    "                return yaml.safe_load(file), os.path.join(root, filename)\n",
    "    raise FileNotFoundError(f\"{filename} not found in {config_path}\")\n",
    "for scene in scenes:\n",
    "    sim = Simulator(scene,rollout,frame)\n",
    "    \n",
    "    # Load scene configuration\n",
    "    # scene_config,cfg_path = load_config_file(sim.configs_path, \"course\", f\"{scene}.yml\")\n",
    "    # queries = scene_config.get(\"queries\", [])\n",
    "\n",
    "    # epcds, epcds_arr, epcds_bounds, pcd, pcd_mask, pcd_attr = rescale_point_cloud(sim.gsplat,viz=False,cull=True,verbose=True)\n",
    "    # obj_targets, env_bounds, epcds, epcds_arr = get_objectives(sim.gsplat, queries, viz=True)\n",
    "\n",
    "    visualize_rrt_trajectories(sim,scene)"
   ]
  },
  {
   "cell_type": "code",
   "execution_count": null,
   "id": "ba810a0d",
   "metadata": {},
   "outputs": [],
   "source": [
    "# # Simulate in FiGS\n",
    "# for scene,course in flights:\n",
    "#     df.simulate_roster(cohort,method,scene,course,roster)\n",
    "\n",
    "# # Plot the results\n",
    "# for _,course in flights:\n",
    "#     pl.review_simulations(cohort,course,roster,plot_show=True)"
   ]
  }
 ],
 "metadata": {
  "kernelspec": {
   "display_name": "semantic-sousvide",
   "language": "python",
   "name": "python3"
  },
  "language_info": {
   "codemirror_mode": {
    "name": "ipython",
    "version": 3
   },
   "file_extension": ".py",
   "mimetype": "text/x-python",
   "name": "python",
   "nbconvert_exporter": "python",
   "pygments_lexer": "ipython3",
   "version": "3.10.16"
  }
 },
 "nbformat": 4,
 "nbformat_minor": 5
}
